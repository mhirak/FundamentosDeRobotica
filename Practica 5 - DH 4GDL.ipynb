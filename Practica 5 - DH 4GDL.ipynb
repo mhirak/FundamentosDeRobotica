{
  "cells": [
    {
      "cell_type": "code",
      "source": [
        "!pip install spatialmath-python > /dev/null"
      ],
      "metadata": {
        "id": "EasFEZt8Y9Zz"
      },
      "id": "EasFEZt8Y9Zz",
      "execution_count": 3,
      "outputs": []
    },
    {
      "cell_type": "code",
      "execution_count": 33,
      "id": "4d18c18d",
      "metadata": {
        "id": "4d18c18d"
      },
      "outputs": [],
      "source": [
        "%matplotlib inline\n",
        "from spatialmath import *\n",
        "from spatialmath.base import *\n",
        "from math import pi\n",
        "import matplotlib.pyplot as plt"
      ]
    },
    {
      "cell_type": "code",
      "execution_count": 19,
      "id": "6d736981",
      "metadata": {
        "id": "6d736981"
      },
      "outputs": [],
      "source": [
        "# TABLA DH (La de ustedes puede ser distinta, segun como hayan elegido las ternas)\n",
        "#    theta    d   a   alpha\n",
        "# 1   q1     l1   0    90\n",
        "# 2   q2     0    l2   0\n",
        "# 3   q3    -d23  l3   0\n",
        "# 4   q4     d34  l4   0"
      ]
    },
    {
      "cell_type": "code",
      "execution_count": 20,
      "id": "2538beab",
      "metadata": {
        "id": "2538beab"
      },
      "outputs": [],
      "source": [
        "# Definimos datos geometricos\n",
        "l1 = 2\n",
        "l2 = 4\n",
        "l3 = 3\n",
        "l4 = 1\n",
        "d23=0.5\n",
        "d34=0.5\n",
        "alfa1 = pi/2"
      ]
    },
    {
      "cell_type": "code",
      "execution_count": 21,
      "id": "fda59819",
      "metadata": {
        "id": "fda59819"
      },
      "outputs": [],
      "source": [
        "# Definimos variables articulares\n",
        "q1 = 0\n",
        "q2 = 0\n",
        "q3 = 0\n",
        "q4 = 0"
      ]
    },
    {
      "cell_type": "code",
      "execution_count": 22,
      "id": "23aedb8c",
      "metadata": {
        "id": "23aedb8c",
        "outputId": "e28e3a29-7c1f-4f92-acc0-64770ba8b8af",
        "colab": {
          "base_uri": "https://localhost:8080/",
          "height": 86
        }
      },
      "outputs": [
        {
          "output_type": "execute_result",
          "data": {
            "text/plain": [
              "   1         0         0         0         \n",
              "   0         1         0         0         \n",
              "   0         0         1         0         \n",
              "   0         0         0         1         \n"
            ]
          },
          "metadata": {},
          "execution_count": 22
        }
      ],
      "source": [
        "S0 = SE3()\n",
        "S0"
      ]
    },
    {
      "cell_type": "code",
      "execution_count": 23,
      "id": "1b148bcc",
      "metadata": {
        "id": "1b148bcc",
        "outputId": "f9879e02-04db-4e10-c838-12b891123275",
        "colab": {
          "base_uri": "https://localhost:8080/",
          "height": 86
        }
      },
      "outputs": [
        {
          "output_type": "execute_result",
          "data": {
            "text/plain": [
              "   1         0         0         0         \n",
              "   0         0        -1         0         \n",
              "   0         1         0         2         \n",
              "   0         0         0         1         \n"
            ]
          },
          "metadata": {},
          "execution_count": 23
        }
      ],
      "source": [
        "A01 = SE3.Rz(q1)*SE3.Tz(l1)*SE3.Rx(alfa1)\n",
        "A01"
      ]
    },
    {
      "cell_type": "code",
      "execution_count": 24,
      "id": "75d61f0b",
      "metadata": {
        "id": "75d61f0b",
        "outputId": "95a83022-b2ee-45f2-9773-c255ae94cc62",
        "colab": {
          "base_uri": "https://localhost:8080/",
          "height": 86
        }
      },
      "outputs": [
        {
          "output_type": "execute_result",
          "data": {
            "text/plain": [
              "   1         0         0         0         \n",
              "   0         0        -1         0         \n",
              "   0         1         0         2         \n",
              "   0         0         0         1         \n"
            ]
          },
          "metadata": {},
          "execution_count": 24
        }
      ],
      "source": [
        "S1 = S0 @ A01\n",
        "S1"
      ]
    },
    {
      "cell_type": "code",
      "execution_count": 25,
      "id": "95656f72",
      "metadata": {
        "id": "95656f72",
        "outputId": "97eb3070-0531-4552-ddaf-535fd2b883fd",
        "colab": {
          "base_uri": "https://localhost:8080/",
          "height": 86
        }
      },
      "outputs": [
        {
          "output_type": "execute_result",
          "data": {
            "text/plain": [
              "   1         0         0         4         \n",
              "   0         1         0         0         \n",
              "   0         0         1         0         \n",
              "   0         0         0         1         \n"
            ]
          },
          "metadata": {},
          "execution_count": 25
        }
      ],
      "source": [
        "A12 = SE3.Rz(q2)*SE3.Tx(l2)\n",
        "A12"
      ]
    },
    {
      "cell_type": "code",
      "execution_count": 26,
      "id": "b7514688",
      "metadata": {
        "id": "b7514688",
        "outputId": "32234138-fd83-4f47-9b3c-9dfed6bea46a",
        "colab": {
          "base_uri": "https://localhost:8080/",
          "height": 86
        }
      },
      "outputs": [
        {
          "output_type": "execute_result",
          "data": {
            "text/plain": [
              "   1         0         0         4         \n",
              "   0         0        -1         0         \n",
              "   0         1         0         2         \n",
              "   0         0         0         1         \n"
            ]
          },
          "metadata": {},
          "execution_count": 26
        }
      ],
      "source": [
        "S2 = S1 @ A12\n",
        "S2"
      ]
    },
    {
      "cell_type": "code",
      "execution_count": 27,
      "id": "2516e3aa",
      "metadata": {
        "id": "2516e3aa",
        "outputId": "0e102e03-e5aa-40d2-d7a3-53847ca144b8",
        "colab": {
          "base_uri": "https://localhost:8080/",
          "height": 86
        }
      },
      "outputs": [
        {
          "output_type": "execute_result",
          "data": {
            "text/plain": [
              "   1         0         0         3         \n",
              "   0         1         0         0         \n",
              "   0         0         1        -0.5       \n",
              "   0         0         0         1         \n"
            ]
          },
          "metadata": {},
          "execution_count": 27
        }
      ],
      "source": [
        "A23 = SE3.Rz(q3)*SE3.Tz(-d23)*SE3.Tx(l3)\n",
        "A23"
      ]
    },
    {
      "cell_type": "code",
      "execution_count": 28,
      "id": "60b7d16d",
      "metadata": {
        "id": "60b7d16d",
        "outputId": "0d331d63-4e89-42d5-dbc3-9803947b1fcf",
        "colab": {
          "base_uri": "https://localhost:8080/",
          "height": 86
        }
      },
      "outputs": [
        {
          "output_type": "execute_result",
          "data": {
            "text/plain": [
              "   1         0         0         7         \n",
              "   0         0        -1         0.5       \n",
              "   0         1         0         2         \n",
              "   0         0         0         1         \n"
            ]
          },
          "metadata": {},
          "execution_count": 28
        }
      ],
      "source": [
        "S3 = S2 @ A23\n",
        "S3"
      ]
    },
    {
      "cell_type": "code",
      "execution_count": 29,
      "id": "9522eb88",
      "metadata": {
        "id": "9522eb88",
        "outputId": "5532e67b-ae3d-499f-a884-e01edc0c6f74",
        "colab": {
          "base_uri": "https://localhost:8080/",
          "height": 86
        }
      },
      "outputs": [
        {
          "output_type": "execute_result",
          "data": {
            "text/plain": [
              "   1         0         0         1         \n",
              "   0         1         0         0         \n",
              "   0         0         1         0.5       \n",
              "   0         0         0         1         \n"
            ]
          },
          "metadata": {},
          "execution_count": 29
        }
      ],
      "source": [
        "A34 = SE3.Rz(q4)*SE3.Tz(d34)*SE3.Tx(l4)\n",
        "A34"
      ]
    },
    {
      "cell_type": "code",
      "execution_count": 30,
      "id": "94de6a47",
      "metadata": {
        "id": "94de6a47",
        "outputId": "158e8c33-a5a8-4c89-d8d0-c7345a401220",
        "colab": {
          "base_uri": "https://localhost:8080/",
          "height": 86
        }
      },
      "outputs": [
        {
          "output_type": "execute_result",
          "data": {
            "text/plain": [
              "   1         0         0         8         \n",
              "   0         0        -1         0         \n",
              "   0         1         0         2         \n",
              "   0         0         0         1         \n"
            ]
          },
          "metadata": {},
          "execution_count": 30
        }
      ],
      "source": [
        "S4 = S3 @ A34\n",
        "S4"
      ]
    },
    {
      "cell_type": "code",
      "execution_count": 37,
      "id": "4e06e4a9",
      "metadata": {
        "id": "4e06e4a9",
        "outputId": "9ef9aefd-f37d-48b8-85ba-3305a245260d",
        "colab": {
          "base_uri": "https://localhost:8080/",
          "height": 423
        }
      },
      "outputs": [
        {
          "output_type": "execute_result",
          "data": {
            "text/plain": [
              "<Axes3D: xlabel='X', ylabel='Y', zlabel='Z'>"
            ]
          },
          "metadata": {},
          "execution_count": 37
        },
        {
          "output_type": "display_data",
          "data": {
            "text/plain": [
              "<Figure size 640x480 with 1 Axes>"
            ],
            "image/png": "[encoded data removed]"
          },
          "metadata": {}
        }
      ],
      "source": [
        "trplot( S0.A, frame='S0')\n",
        "trplot( S1.A, frame='S1', color  = 'red')\n",
        "trplot( S2.A, frame='S2', color  = 'green')\n",
        "trplot( S3.A, frame='S3', color  = 'black')\n",
        "trplot( S4.A, frame='S4', color  = 'blue')"
      ]
    },
    {
      "cell_type": "code",
      "source": [],
      "metadata": {
        "id": "H-LobeFxaH1M"
      },
      "id": "H-LobeFxaH1M",
      "execution_count": null,
      "outputs": []
    }
  ],
  "metadata": {
    "kernelspec": {
      "display_name": "Python 3 (ipykernel)",
      "language": "python",
      "name": "python3"
    },
    "language_info": {
      "codemirror_mode": {
        "name": "ipython",
        "version": 3
      },
      "file_extension": ".py",
      "mimetype": "text/x-python",
      "name": "python",
      "nbconvert_exporter": "python",
      "pygments_lexer": "ipython3",
      "version": "3.8.16"
    },
    "colab": {
      "provenance": []
    }
  },
  "nbformat": 4,
  "nbformat_minor": 5
}