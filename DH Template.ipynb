{
 "cells": [
  {
   "cell_type": "code",
   "execution_count": 1,
   "id": "e6e365a0",
   "metadata": {},
   "outputs": [],
   "source": [
    "%matplotlib notebook\n",
    "from spatialmath import *\n",
    "from spatialmath.base import *\n",
    "import matplotlib.pyplot as plt\n",
    "from math import pi, degrees, radians\n",
    "import numpy as np\n",
    "import sympy as sp\n",
    "\n",
    "# extendemos la clase SE3 para poder manejar variables en forma simbolica y numérica\n",
    "# USO: objeto.symbolReplace([(simbolo1, valor_simbolo1),(simboloN, valor_simboloN)])\n",
    "class SE3(SE3):\n",
    "    def symbolReplace(self,symbol_values):\n",
    "        aux = np.eye(self.A.shape[0])\n",
    "        for i in range(self.A.shape[0]):\n",
    "            for j in range(self.A.shape[1]):\n",
    "                try:\n",
    "                    aux[i,j] = self.A[i,j].subs(symbol_values).evalf()\n",
    "                except:\n",
    "                    pass\n",
    "        return aux"
   ]
  },
  {
   "cell_type": "code",
   "execution_count": 2,
   "id": "1e742bd1",
   "metadata": {},
   "outputs": [],
   "source": [
    "# Definimos simbolos a utilizar\n",
    "q1, q2, q3 = sp.symbols('Q1 Q2 Q3')"
   ]
  },
  {
   "cell_type": "code",
   "execution_count": 3,
   "id": "bb515139",
   "metadata": {},
   "outputs": [
    {
     "data": {
      "text/plain": [
       "  1.0*cos(Q1)  -6.12323399573677e-17*sin(Q1) 1.0*sin(Q1)  100.0*cos(Q1)  \n",
       "  1.0*sin(Q1)  6.12323399573677e-17*cos(Q1) -1.0*cos(Q1) 100.0*sin(Q1)  \n",
       "   0         1         0         200       \n",
       "   0         0         0         1         \n"
      ]
     },
     "execution_count": 3,
     "metadata": {},
     "output_type": "execute_result"
    }
   ],
   "source": [
    "A01 = SE3.Rz(q1) * SE3.Tz(200) * SE3.Tx(100) * SE3.Rx(pi/2)\n",
    "A01"
   ]
  },
  {
   "cell_type": "code",
   "execution_count": 4,
   "id": "8f82b1d5",
   "metadata": {},
   "outputs": [
    {
     "data": {
      "text/plain": [
       "  1.0*cos(Q2)  -1.0*sin(Q2) 0            100.0*cos(Q2)  \n",
       "  1.0*sin(Q2)  1.0*cos(Q2)  0            100.0*sin(Q2)  \n",
       "   0         0         1         0         \n",
       "   0         0         0         1         \n"
      ]
     },
     "execution_count": 4,
     "metadata": {},
     "output_type": "execute_result"
    }
   ],
   "source": [
    "A12 = SE3.Rz(q2) * SE3.Tx(100)\n",
    "A12"
   ]
  },
  {
   "cell_type": "code",
   "execution_count": 5,
   "id": "b0e676e3",
   "metadata": {},
   "outputs": [
    {
     "data": {
      "text/plain": [
       "  1.0*cos(Q3)  1.0*sin(Q3)  1.22464679914735e-16*sin(Q3) 0             \n",
       "  1.0*sin(Q3)  -1.0*cos(Q3) -1.22464679914735e-16*cos(Q3) 0             \n",
       "   0         0        -1         100       \n",
       "   0         0         0         1         \n"
      ]
     },
     "execution_count": 5,
     "metadata": {},
     "output_type": "execute_result"
    }
   ],
   "source": [
    "A23 = SE3.Rz(q3) * SE3.Tz(100) * SE3.Rx(pi)\n",
    "A23"
   ]
  },
  {
   "cell_type": "code",
   "execution_count": 44,
   "id": "f339b471",
   "metadata": {},
   "outputs": [
    {
     "data": {
      "text/plain": [
       "  1.0*(-6.12323399573677e-17*sin(Q1)*sin(Q2) + 1.0*cos(Q1)*cos(Q2))*cos(Q3) + 1.0*(-6.12323399573677e-17*sin(Q1)*cos(Q2) - 1.0*sin(Q2)*cos(Q1))*sin(Q3) 1.0*(-6.12323399573677e-17*sin(Q1)*sin(Q2) + 1.0*cos(Q1)*cos(Q2))*sin(Q3) - 1.0*(-6.12323399573677e-17*sin(Q1)*cos(Q2) - 1.0*sin(Q2)*cos(Q1))*cos(Q3) + 1.22464679914735e-16*sin(Q1) 1.22464679914735e-16*(-6.12323399573677e-17*sin(Q1)*sin(Q2) + 1.0*cos(Q1)*cos(Q2))*sin(Q3) - 1.22464679914735e-16*(-6.12323399573677e-17*sin(Q1)*cos(Q2) - 1.0*sin(Q2)*cos(Q1))*cos(Q3) - 1.0*sin(Q1) -6.12323399573677e-15*sin(Q1)*sin(Q2) + 100.0*sin(Q1) + 100.0*cos(Q1)*cos(Q2) + 100.0*cos(Q1)  \n",
       "  1.0*(-1.0*sin(Q1)*sin(Q2) + 6.12323399573677e-17*cos(Q1)*cos(Q2))*sin(Q3) + 1.0*(1.0*sin(Q1)*cos(Q2) + 6.12323399573677e-17*sin(Q2)*cos(Q1))*cos(Q3) -1.0*(-1.0*sin(Q1)*sin(Q2) + 6.12323399573677e-17*cos(Q1)*cos(Q2))*cos(Q3) + 1.0*(1.0*sin(Q1)*cos(Q2) + 6.12323399573677e-17*sin(Q2)*cos(Q1))*sin(Q3) - 1.22464679914735e-16*cos(Q1) -1.22464679914735e-16*(-1.0*sin(Q1)*sin(Q2) + 6.12323399573677e-17*cos(Q1)*cos(Q2))*cos(Q3) + 1.22464679914735e-16*(1.0*sin(Q1)*cos(Q2) + 6.12323399573677e-17*sin(Q2)*cos(Q1))*sin(Q3) + 1.0*cos(Q1) 100.0*sin(Q1)*cos(Q2) + 100.0*sin(Q1) + 6.12323399573677e-15*sin(Q2)*cos(Q1) - 100.0*cos(Q1)  \n",
       "  1.0*sin(Q2)*cos(Q3) + 1.0*sin(Q3)*cos(Q2) 1.0*sin(Q2)*sin(Q3) - 1.0*cos(Q2)*cos(Q3) + 7.49879891330929e-33 1.22464679914735e-16*sin(Q2)*sin(Q3) - 1.22464679914735e-16*cos(Q2)*cos(Q3) - 6.12323399573677e-17 100.0*sin(Q2) + 200.0  \n",
       "  0            0            0            1.00000000000000  \n"
      ]
     },
     "execution_count": 44,
     "metadata": {},
     "output_type": "execute_result"
    }
   ],
   "source": [
    "# Lo que nos interesa de T es lo remarcado en azul, es decir, los componentes de P\n",
    "T = A01 * A12 * A23\n",
    "T"
   ]
  },
  {
   "cell_type": "code",
   "execution_count": 45,
   "id": "a6b29c25",
   "metadata": {},
   "outputs": [],
   "source": [
    "# Asignamos P como filas 0 a 3 (sin incluir) y columna 3 del tensor T\n",
    "P = T.A[:3,3]\n",
    "# Aplicamos simplificacion algebraica y numerica\n",
    "P = [i.simplify().nsimplify(tolerance = 1e-10).simplify() for i in P]"
   ]
  },
  {
   "cell_type": "code",
   "execution_count": 46,
   "id": "c5d2a526",
   "metadata": {},
   "outputs": [],
   "source": [
    "# Desempaquetamos P\n",
    "px,py,pz = P"
   ]
  },
  {
   "cell_type": "code",
   "execution_count": 47,
   "id": "d80b47af",
   "metadata": {},
   "outputs": [
    {
     "data": {
      "text/latex": [
       "$\\displaystyle 100 \\sqrt{2} \\sin{\\left(Q_{1} + \\frac{\\pi}{4} \\right)} + 100 \\cos{\\left(Q_{1} \\right)} \\cos{\\left(Q_{2} \\right)}$"
      ],
      "text/plain": [
       "100*sqrt(2)*sin(Q1 + pi/4) + 100*cos(Q1)*cos(Q2)"
      ]
     },
     "execution_count": 47,
     "metadata": {},
     "output_type": "execute_result"
    }
   ],
   "source": [
    "# Coordenada X del efector segun Q\n",
    "px"
   ]
  },
  {
   "cell_type": "code",
   "execution_count": 48,
   "id": "c6f636bd",
   "metadata": {},
   "outputs": [
    {
     "data": {
      "text/latex": [
       "$\\displaystyle 100 \\sin{\\left(Q_{1} \\right)} \\cos{\\left(Q_{2} \\right)} - 100 \\sqrt{2} \\cos{\\left(Q_{1} + \\frac{\\pi}{4} \\right)}$"
      ],
      "text/plain": [
       "100*sin(Q1)*cos(Q2) - 100*sqrt(2)*cos(Q1 + pi/4)"
      ]
     },
     "execution_count": 48,
     "metadata": {},
     "output_type": "execute_result"
    }
   ],
   "source": [
    "# Coordenada Y del efector segun Q\n",
    "py"
   ]
  },
  {
   "cell_type": "code",
   "execution_count": 49,
   "id": "27807a23",
   "metadata": {},
   "outputs": [
    {
     "data": {
      "text/latex": [
       "$\\displaystyle 100 \\sin{\\left(Q_{2} \\right)} + 200$"
      ],
      "text/plain": [
       "100*sin(Q2) + 200"
      ]
     },
     "execution_count": 49,
     "metadata": {},
     "output_type": "execute_result"
    }
   ],
   "source": [
    "# Coordenada Z del efector segun Q\n",
    "pz"
   ]
  },
  {
   "cell_type": "code",
   "execution_count": 50,
   "id": "1370f297",
   "metadata": {},
   "outputs": [],
   "source": [
    "np.set_printoptions(suppress=True)"
   ]
  },
  {
   "cell_type": "code",
   "execution_count": 51,
   "id": "2a822240",
   "metadata": {},
   "outputs": [
    {
     "data": {
      "text/latex": [
       "$\\displaystyle 100$"
      ],
      "text/plain": [
       "100"
      ]
     },
     "execution_count": 51,
     "metadata": {},
     "output_type": "execute_result"
    }
   ],
   "source": [
    "px1_eval = px.subs([('Q1',0),('Q2',pi/2),('Q3',0)]).round()\n",
    "px1_eval"
   ]
  },
  {
   "cell_type": "code",
   "execution_count": 52,
   "id": "fd4a3101",
   "metadata": {},
   "outputs": [
    {
     "data": {
      "text/latex": [
       "$\\displaystyle -100$"
      ],
      "text/plain": [
       "-100"
      ]
     },
     "execution_count": 52,
     "metadata": {},
     "output_type": "execute_result"
    }
   ],
   "source": [
    "py1_eval = py.subs([('Q1',0),('Q2',pi/2),('Q3',0)]).round()\n",
    "py1_eval"
   ]
  },
  {
   "cell_type": "code",
   "execution_count": 53,
   "id": "3b8f0836",
   "metadata": {},
   "outputs": [
    {
     "data": {
      "text/latex": [
       "$\\displaystyle 300$"
      ],
      "text/plain": [
       "300"
      ]
     },
     "execution_count": 53,
     "metadata": {},
     "output_type": "execute_result"
    }
   ],
   "source": [
    "pz1_eval = pz.subs([('Q1',0),('Q2',pi/2),('Q3',0)]).round()\n",
    "pz1_eval"
   ]
  },
  {
   "cell_type": "code",
   "execution_count": 54,
   "id": "0b5f71b2",
   "metadata": {},
   "outputs": [
    {
     "data": {
      "text/plain": [
       "array([[   0.,    1.,    0.,  100.],\n",
       "       [   0.,   -0.,    1., -100.],\n",
       "       [   1.,   -0.,   -0.,  300.],\n",
       "       [   0.,    0.,    0.,    1.]])"
      ]
     },
     "execution_count": 54,
     "metadata": {},
     "output_type": "execute_result"
    }
   ],
   "source": [
    "T.symbolReplace([('Q1',0),('Q2',pi/2),('Q3',0)]).round(3)"
   ]
  }
 ],
 "metadata": {
  "kernelspec": {
   "display_name": "Python 3 (ipykernel)",
   "language": "python",
   "name": "python3"
  },
  "language_info": {
   "codemirror_mode": {
    "name": "ipython",
    "version": 3
   },
   "file_extension": ".py",
   "mimetype": "text/x-python",
   "name": "python",
   "nbconvert_exporter": "python",
   "pygments_lexer": "ipython3",
   "version": "3.8.16"
  }
 },
 "nbformat": 4,
 "nbformat_minor": 5
}
