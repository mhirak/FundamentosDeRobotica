{
 "cells": [
  {
   "cell_type": "code",
   "execution_count": 21,
   "metadata": {},
   "outputs": [],
   "source": [
    "%matplotlib notebook\n",
    "from spatialmath import *\n",
    "from spatialmath.base import *\n",
    "import matplotlib.pyplot as plt\n",
    "from math import pi, degrees, radians\n",
    "import numpy as np\n",
    "import sympy as sp\n"
   ]
  },
  {
   "cell_type": "code",
   "execution_count": 22,
   "metadata": {},
   "outputs": [],
   "source": [
    "# Definimos simbolos a utilizar\n",
    "q1, q2, q3, q4, q5 = sp.symbols('Q1 Q2 Q3 Q4 Q5')"
   ]
  },
  {
   "cell_type": "code",
   "execution_count": 23,
   "metadata": {},
   "outputs": [],
   "source": [
    "# Definimos las constantes geometricas\n",
    "l1    = 388\n",
    "l2    = 280\n",
    "l3    = 230\n",
    "l45   = 207\n",
    "off01 = 70\n",
    "off12 = 155\n",
    "off23 = off12 - 43"
   ]
  },
  {
   "cell_type": "code",
   "execution_count": 24,
   "metadata": {},
   "outputs": [
    {
     "data": {
      "text/plain": [
       "  \u001b[38;5;1m1.0*cos(Q1) \u001b[0m \u001b[38;5;1m-6.12323399573677e-17*sin(Q1)\u001b[0m \u001b[38;5;1m-1.0*sin(Q1)\u001b[0m \u001b[38;5;4m70.0*cos(Q1)\u001b[0m  \u001b[0m\n",
       "  \u001b[38;5;1m1.0*sin(Q1) \u001b[0m \u001b[38;5;1m6.12323399573677e-17*cos(Q1)\u001b[0m \u001b[38;5;1m1.0*cos(Q1) \u001b[0m \u001b[38;5;4m70.0*sin(Q1)\u001b[0m  \u001b[0m\n",
       "  \u001b[38;5;1m 0       \u001b[0m \u001b[38;5;1m-1       \u001b[0m \u001b[38;5;1m 0       \u001b[0m \u001b[38;5;4m 388     \u001b[0m  \u001b[0m\n",
       "  \u001b[38;5;244m 0       \u001b[0m \u001b[38;5;244m 0       \u001b[0m \u001b[38;5;244m 0       \u001b[0m \u001b[38;5;244m 1       \u001b[0m  \u001b[0m\n"
      ]
     },
     "execution_count": 24,
     "metadata": {},
     "output_type": "execute_result"
    }
   ],
   "source": [
    "# MTH Eje 1\n",
    "A01 = SE3.Rz(q1) * SE3.Tz(l1) * SE3.Tx(off01) * SE3.Rx(-pi/2)\n",
    "A01"
   ]
  },
  {
   "cell_type": "code",
   "execution_count": 25,
   "metadata": {},
   "outputs": [
    {
     "data": {
      "text/plain": [
       "  \u001b[38;5;1m1.0*cos(Q2) \u001b[0m \u001b[38;5;1m-1.0*sin(Q2)\u001b[0m \u001b[38;5;1m0           \u001b[0m \u001b[38;5;4m280.0*cos(Q2)\u001b[0m  \u001b[0m\n",
       "  \u001b[38;5;1m1.0*sin(Q2) \u001b[0m \u001b[38;5;1m1.0*cos(Q2) \u001b[0m \u001b[38;5;1m0           \u001b[0m \u001b[38;5;4m280.0*sin(Q2)\u001b[0m  \u001b[0m\n",
       "  \u001b[38;5;1m 0       \u001b[0m \u001b[38;5;1m 0       \u001b[0m \u001b[38;5;1m 1       \u001b[0m \u001b[38;5;4m-155     \u001b[0m  \u001b[0m\n",
       "  \u001b[38;5;244m 0       \u001b[0m \u001b[38;5;244m 0       \u001b[0m \u001b[38;5;244m 0       \u001b[0m \u001b[38;5;244m 1       \u001b[0m  \u001b[0m\n"
      ]
     },
     "execution_count": 25,
     "metadata": {},
     "output_type": "execute_result"
    }
   ],
   "source": [
    "# MTH Eje 2\n",
    "A12 = SE3.Rz(q2) * SE3.Tz(-off12) * SE3.Tx(l2)\n",
    "A12"
   ]
  },
  {
   "cell_type": "code",
   "execution_count": 26,
   "metadata": {},
   "outputs": [
    {
     "data": {
      "text/plain": [
       "  \u001b[38;5;1m1.0*cos(Q3) \u001b[0m \u001b[38;5;1m-1.0*sin(Q3)\u001b[0m \u001b[38;5;1m0           \u001b[0m \u001b[38;5;4m230.0*cos(Q3)\u001b[0m  \u001b[0m\n",
       "  \u001b[38;5;1m1.0*sin(Q3) \u001b[0m \u001b[38;5;1m1.0*cos(Q3) \u001b[0m \u001b[38;5;1m0           \u001b[0m \u001b[38;5;4m230.0*sin(Q3)\u001b[0m  \u001b[0m\n",
       "  \u001b[38;5;1m 0       \u001b[0m \u001b[38;5;1m 0       \u001b[0m \u001b[38;5;1m 1       \u001b[0m \u001b[38;5;4m 112     \u001b[0m  \u001b[0m\n",
       "  \u001b[38;5;244m 0       \u001b[0m \u001b[38;5;244m 0       \u001b[0m \u001b[38;5;244m 0       \u001b[0m \u001b[38;5;244m 1       \u001b[0m  \u001b[0m\n"
      ]
     },
     "execution_count": 26,
     "metadata": {},
     "output_type": "execute_result"
    }
   ],
   "source": [
    "# MTH Eje 3\n",
    "A23 = SE3.Rz(q3) * SE3.Tz(off23) * SE3.Tx(l3)\n",
    "A23"
   ]
  },
  {
   "cell_type": "code",
   "execution_count": 27,
   "metadata": {},
   "outputs": [
    {
     "data": {
      "text/plain": [
       "  \u001b[38;5;1m1.0*cos(Q4) \u001b[0m \u001b[38;5;1m-6.12323399573677e-17*sin(Q4)\u001b[0m \u001b[38;5;1m-1.0*sin(Q4)\u001b[0m \u001b[38;5;4m0           \u001b[0m  \u001b[0m\n",
       "  \u001b[38;5;1m1.0*sin(Q4) \u001b[0m \u001b[38;5;1m6.12323399573677e-17*cos(Q4)\u001b[0m \u001b[38;5;1m1.0*cos(Q4) \u001b[0m \u001b[38;5;4m0           \u001b[0m  \u001b[0m\n",
       "  \u001b[38;5;1m 0       \u001b[0m \u001b[38;5;1m-1       \u001b[0m \u001b[38;5;1m 0       \u001b[0m \u001b[38;5;4m 0       \u001b[0m  \u001b[0m\n",
       "  \u001b[38;5;244m 0       \u001b[0m \u001b[38;5;244m 0       \u001b[0m \u001b[38;5;244m 0       \u001b[0m \u001b[38;5;244m 1       \u001b[0m  \u001b[0m\n"
      ]
     },
     "execution_count": 27,
     "metadata": {},
     "output_type": "execute_result"
    }
   ],
   "source": [
    "# MTH Eje 4\n",
    "A34 = SE3.Rz(q4) * SE3.Rx(-pi/2)\n",
    "A34"
   ]
  },
  {
   "cell_type": "code",
   "execution_count": 28,
   "metadata": {},
   "outputs": [
    {
     "data": {
      "text/plain": [
       "  \u001b[38;5;1m1.0*cos(Q5) \u001b[0m \u001b[38;5;1m-1.0*sin(Q5)\u001b[0m \u001b[38;5;1m0           \u001b[0m \u001b[38;5;4m0           \u001b[0m  \u001b[0m\n",
       "  \u001b[38;5;1m1.0*sin(Q5) \u001b[0m \u001b[38;5;1m1.0*cos(Q5) \u001b[0m \u001b[38;5;1m0           \u001b[0m \u001b[38;5;4m0           \u001b[0m  \u001b[0m\n",
       "  \u001b[38;5;1m 0       \u001b[0m \u001b[38;5;1m 0       \u001b[0m \u001b[38;5;1m 1       \u001b[0m \u001b[38;5;4m 207     \u001b[0m  \u001b[0m\n",
       "  \u001b[38;5;244m 0       \u001b[0m \u001b[38;5;244m 0       \u001b[0m \u001b[38;5;244m 0       \u001b[0m \u001b[38;5;244m 1       \u001b[0m  \u001b[0m\n"
      ]
     },
     "execution_count": 28,
     "metadata": {},
     "output_type": "execute_result"
    }
   ],
   "source": [
    "# MTH Eje 5\n",
    "A45 = SE3.Rz(q5) * SE3.Tz(l45)\n",
    "A45"
   ]
  },
  {
   "cell_type": "code",
   "execution_count": 29,
   "metadata": {},
   "outputs": [
    {
     "data": {
      "text/plain": [
       "  \u001b[38;5;1m1.0*(1.0*(-1.0*(-6.12323399573677e-17*sin(Q1)*sin(Q2) + 1.0*cos(Q1)*cos(Q2))*sin(Q3) + 1.0*(-6.12323399573677e-17*sin(Q1)*cos(Q2) - 1.0*sin(Q2)*cos(Q1))*cos(Q3))*sin(Q4) + 1.0*(1.0*(-6.12323399573677e-17*sin(Q1)*sin(Q2) + 1.0*cos(Q1)*cos(Q2))*cos(Q3) + 1.0*(-6.12323399573677e-17*sin(Q1)*cos(Q2) - 1.0*sin(Q2)*cos(Q1))*sin(Q3))*cos(Q4))*cos(Q5) + 1.0*(6.12323399573677e-17*(-1.0*(-6.12323399573677e-17*sin(Q1)*sin(Q2) + 1.0*cos(Q1)*cos(Q2))*sin(Q3) + 1.0*(-6.12323399573677e-17*sin(Q1)*cos(Q2) - 1.0*sin(Q2)*cos(Q1))*cos(Q3))*cos(Q4) - 6.12323399573677e-17*(1.0*(-6.12323399573677e-17*sin(Q1)*sin(Q2) + 1.0*cos(Q1)*cos(Q2))*cos(Q3) + 1.0*(-6.12323399573677e-17*sin(Q1)*cos(Q2) - 1.0*sin(Q2)*cos(Q1))*sin(Q3))*sin(Q4) + 1.0*sin(Q1))*sin(Q5)\u001b[0m \u001b[38;5;1m-1.0*(1.0*(-1.0*(-6.12323399573677e-17*sin(Q1)*sin(Q2) + 1.0*cos(Q1)*cos(Q2))*sin(Q3) + 1.0*(-6.12323399573677e-17*sin(Q1)*cos(Q2) - 1.0*sin(Q2)*cos(Q1))*cos(Q3))*sin(Q4) + 1.0*(1.0*(-6.12323399573677e-17*sin(Q1)*sin(Q2) + 1.0*cos(Q1)*cos(Q2))*cos(Q3) + 1.0*(-6.12323399573677e-17*sin(Q1)*cos(Q2) - 1.0*sin(Q2)*cos(Q1))*sin(Q3))*cos(Q4))*sin(Q5) + 1.0*(6.12323399573677e-17*(-1.0*(-6.12323399573677e-17*sin(Q1)*sin(Q2) + 1.0*cos(Q1)*cos(Q2))*sin(Q3) + 1.0*(-6.12323399573677e-17*sin(Q1)*cos(Q2) - 1.0*sin(Q2)*cos(Q1))*cos(Q3))*cos(Q4) - 6.12323399573677e-17*(1.0*(-6.12323399573677e-17*sin(Q1)*sin(Q2) + 1.0*cos(Q1)*cos(Q2))*cos(Q3) + 1.0*(-6.12323399573677e-17*sin(Q1)*cos(Q2) - 1.0*sin(Q2)*cos(Q1))*sin(Q3))*sin(Q4) + 1.0*sin(Q1))*cos(Q5)\u001b[0m \u001b[38;5;1m1.0*(-1.0*(-6.12323399573677e-17*sin(Q1)*sin(Q2) + 1.0*cos(Q1)*cos(Q2))*sin(Q3) + 1.0*(-6.12323399573677e-17*sin(Q1)*cos(Q2) - 1.0*sin(Q2)*cos(Q1))*cos(Q3))*cos(Q4) - 1.0*(1.0*(-6.12323399573677e-17*sin(Q1)*sin(Q2) + 1.0*cos(Q1)*cos(Q2))*cos(Q3) + 1.0*(-6.12323399573677e-17*sin(Q1)*cos(Q2) - 1.0*sin(Q2)*cos(Q1))*sin(Q3))*sin(Q4) - 6.12323399573677e-17*sin(Q1)\u001b[0m \u001b[38;5;4m207.0*(-1.0*(-6.12323399573677e-17*sin(Q1)*sin(Q2) + 1.0*cos(Q1)*cos(Q2))*sin(Q3) + 1.0*(-6.12323399573677e-17*sin(Q1)*cos(Q2) - 1.0*sin(Q2)*cos(Q1))*cos(Q3))*cos(Q4) - 207.0*(1.0*(-6.12323399573677e-17*sin(Q1)*sin(Q2) + 1.0*cos(Q1)*cos(Q2))*cos(Q3) + 1.0*(-6.12323399573677e-17*sin(Q1)*cos(Q2) - 1.0*sin(Q2)*cos(Q1))*sin(Q3))*sin(Q4) + 230.0*(-6.12323399573677e-17*sin(Q1)*sin(Q2) + 1.0*cos(Q1)*cos(Q2))*cos(Q3) + 230.0*(-6.12323399573677e-17*sin(Q1)*cos(Q2) - 1.0*sin(Q2)*cos(Q1))*sin(Q3) - 1.71450551880629e-14*sin(Q1)*sin(Q2) + 43.0*sin(Q1) + 280.0*cos(Q1)*cos(Q2) + 70.0*cos(Q1)\u001b[0m  \u001b[0m\n",
       "  \u001b[38;5;1m1.0*(1.0*(1.0*(-1.0*sin(Q1)*sin(Q2) + 6.12323399573677e-17*cos(Q1)*cos(Q2))*sin(Q3) + 1.0*(1.0*sin(Q1)*cos(Q2) + 6.12323399573677e-17*sin(Q2)*cos(Q1))*cos(Q3))*cos(Q4) + 1.0*(1.0*(-1.0*sin(Q1)*sin(Q2) + 6.12323399573677e-17*cos(Q1)*cos(Q2))*cos(Q3) - 1.0*(1.0*sin(Q1)*cos(Q2) + 6.12323399573677e-17*sin(Q2)*cos(Q1))*sin(Q3))*sin(Q4))*cos(Q5) + 1.0*(-6.12323399573677e-17*(1.0*(-1.0*sin(Q1)*sin(Q2) + 6.12323399573677e-17*cos(Q1)*cos(Q2))*sin(Q3) + 1.0*(1.0*sin(Q1)*cos(Q2) + 6.12323399573677e-17*sin(Q2)*cos(Q1))*cos(Q3))*sin(Q4) + 6.12323399573677e-17*(1.0*(-1.0*sin(Q1)*sin(Q2) + 6.12323399573677e-17*cos(Q1)*cos(Q2))*cos(Q3) - 1.0*(1.0*sin(Q1)*cos(Q2) + 6.12323399573677e-17*sin(Q2)*cos(Q1))*sin(Q3))*cos(Q4) - 1.0*cos(Q1))*sin(Q5)\u001b[0m \u001b[38;5;1m-1.0*(1.0*(1.0*(-1.0*sin(Q1)*sin(Q2) + 6.12323399573677e-17*cos(Q1)*cos(Q2))*sin(Q3) + 1.0*(1.0*sin(Q1)*cos(Q2) + 6.12323399573677e-17*sin(Q2)*cos(Q1))*cos(Q3))*cos(Q4) + 1.0*(1.0*(-1.0*sin(Q1)*sin(Q2) + 6.12323399573677e-17*cos(Q1)*cos(Q2))*cos(Q3) - 1.0*(1.0*sin(Q1)*cos(Q2) + 6.12323399573677e-17*sin(Q2)*cos(Q1))*sin(Q3))*sin(Q4))*sin(Q5) + 1.0*(-6.12323399573677e-17*(1.0*(-1.0*sin(Q1)*sin(Q2) + 6.12323399573677e-17*cos(Q1)*cos(Q2))*sin(Q3) + 1.0*(1.0*sin(Q1)*cos(Q2) + 6.12323399573677e-17*sin(Q2)*cos(Q1))*cos(Q3))*sin(Q4) + 6.12323399573677e-17*(1.0*(-1.0*sin(Q1)*sin(Q2) + 6.12323399573677e-17*cos(Q1)*cos(Q2))*cos(Q3) - 1.0*(1.0*sin(Q1)*cos(Q2) + 6.12323399573677e-17*sin(Q2)*cos(Q1))*sin(Q3))*cos(Q4) - 1.0*cos(Q1))*cos(Q5)\u001b[0m \u001b[38;5;1m-1.0*(1.0*(-1.0*sin(Q1)*sin(Q2) + 6.12323399573677e-17*cos(Q1)*cos(Q2))*sin(Q3) + 1.0*(1.0*sin(Q1)*cos(Q2) + 6.12323399573677e-17*sin(Q2)*cos(Q1))*cos(Q3))*sin(Q4) + 1.0*(1.0*(-1.0*sin(Q1)*sin(Q2) + 6.12323399573677e-17*cos(Q1)*cos(Q2))*cos(Q3) - 1.0*(1.0*sin(Q1)*cos(Q2) + 6.12323399573677e-17*sin(Q2)*cos(Q1))*sin(Q3))*cos(Q4) + 6.12323399573677e-17*cos(Q1)\u001b[0m \u001b[38;5;4m-207.0*(1.0*(-1.0*sin(Q1)*sin(Q2) + 6.12323399573677e-17*cos(Q1)*cos(Q2))*sin(Q3) + 1.0*(1.0*sin(Q1)*cos(Q2) + 6.12323399573677e-17*sin(Q2)*cos(Q1))*cos(Q3))*sin(Q4) + 207.0*(1.0*(-1.0*sin(Q1)*sin(Q2) + 6.12323399573677e-17*cos(Q1)*cos(Q2))*cos(Q3) - 1.0*(1.0*sin(Q1)*cos(Q2) + 6.12323399573677e-17*sin(Q2)*cos(Q1))*sin(Q3))*cos(Q4) + 230.0*(-1.0*sin(Q1)*sin(Q2) + 6.12323399573677e-17*cos(Q1)*cos(Q2))*sin(Q3) + 230.0*(1.0*sin(Q1)*cos(Q2) + 6.12323399573677e-17*sin(Q2)*cos(Q1))*cos(Q3) + 280.0*sin(Q1)*cos(Q2) + 70.0*sin(Q1) + 1.71450551880629e-14*sin(Q2)*cos(Q1) - 43.0*cos(Q1)\u001b[0m  \u001b[0m\n",
       "  \u001b[38;5;1m1.0*(1.0*(1.0*sin(Q2)*sin(Q3) - 1.0*cos(Q2)*cos(Q3))*sin(Q4) + 1.0*(-1.0*sin(Q2)*cos(Q3) - 1.0*sin(Q3)*cos(Q2))*cos(Q4))*cos(Q5) + 1.0*(6.12323399573677e-17*(1.0*sin(Q2)*sin(Q3) - 1.0*cos(Q2)*cos(Q3))*cos(Q4) - 6.12323399573677e-17*(-1.0*sin(Q2)*cos(Q3) - 1.0*sin(Q3)*cos(Q2))*sin(Q4) - 6.12323399573677e-17)*sin(Q5)\u001b[0m \u001b[38;5;1m-1.0*(1.0*(1.0*sin(Q2)*sin(Q3) - 1.0*cos(Q2)*cos(Q3))*sin(Q4) + 1.0*(-1.0*sin(Q2)*cos(Q3) - 1.0*sin(Q3)*cos(Q2))*cos(Q4))*sin(Q5) + 1.0*(6.12323399573677e-17*(1.0*sin(Q2)*sin(Q3) - 1.0*cos(Q2)*cos(Q3))*cos(Q4) - 6.12323399573677e-17*(-1.0*sin(Q2)*cos(Q3) - 1.0*sin(Q3)*cos(Q2))*sin(Q4) - 6.12323399573677e-17)*cos(Q5)\u001b[0m \u001b[38;5;1m1.0*(1.0*sin(Q2)*sin(Q3) - 1.0*cos(Q2)*cos(Q3))*cos(Q4) - 1.0*(-1.0*sin(Q2)*cos(Q3) - 1.0*sin(Q3)*cos(Q2))*sin(Q4) + 3.74939945665464e-33\u001b[0m \u001b[38;5;4m207.0*(1.0*sin(Q2)*sin(Q3) - 1.0*cos(Q2)*cos(Q3))*cos(Q4) - 207.0*(-1.0*sin(Q2)*cos(Q3) - 1.0*sin(Q3)*cos(Q2))*sin(Q4) - 230.0*sin(Q2)*cos(Q3) - 280.0*sin(Q2) - 230.0*sin(Q3)*cos(Q2) + 388.0\u001b[0m  \u001b[0m\n",
       "  \u001b[38;5;244m0           \u001b[0m \u001b[38;5;244m0           \u001b[0m \u001b[38;5;244m0           \u001b[0m \u001b[38;5;244m1.00000000000000\u001b[0m  \u001b[0m\n"
      ]
     },
     "execution_count": 29,
     "metadata": {},
     "output_type": "execute_result"
    }
   ],
   "source": [
    "# Lo que nos interesa de T es lo remarcado en azul, es decir, los componentes de P\n",
    "T = A01 * A12 * A23 * A34 * A45\n",
    "T"
   ]
  },
  {
   "cell_type": "code",
   "execution_count": 30,
   "metadata": {},
   "outputs": [],
   "source": [
    "# Asignamos P como filas 0 a 3 (sin incluir) y columna 3 del tensor T\n",
    "P = T.A[:3,3]\n",
    "# Aplicamos simplificacion algebraica y numerica\n",
    "P = [i.simplify().nsimplify(tolerance = 1e-10) for i in P]"
   ]
  },
  {
   "cell_type": "code",
   "execution_count": 31,
   "metadata": {},
   "outputs": [],
   "source": [
    "# Desempaquetamos P\n",
    "px,py,pz = P"
   ]
  },
  {
   "cell_type": "code",
   "execution_count": 32,
   "metadata": {},
   "outputs": [
    {
     "data": {
      "text/latex": [
       "$\\displaystyle 43 \\sin{\\left(Q_{1} \\right)} - 207 \\sin{\\left(Q_{2} + Q_{3} + Q_{4} \\right)} \\cos{\\left(Q_{1} \\right)} + 280 \\cos{\\left(Q_{1} \\right)} \\cos{\\left(Q_{2} \\right)} + 230 \\cos{\\left(Q_{1} \\right)} \\cos{\\left(Q_{2} + Q_{3} \\right)} + 70 \\cos{\\left(Q_{1} \\right)}$"
      ],
      "text/plain": [
       "43*sin(Q1) - 207*sin(Q2 + Q3 + Q4)*cos(Q1) + 280*cos(Q1)*cos(Q2) + 230*cos(Q1)*cos(Q2 + Q3) + 70*cos(Q1)"
      ]
     },
     "execution_count": 32,
     "metadata": {},
     "output_type": "execute_result"
    }
   ],
   "source": [
    "# Coordenada X del efector segun Q\n",
    "px"
   ]
  },
  {
   "cell_type": "code",
   "execution_count": 33,
   "metadata": {},
   "outputs": [
    {
     "data": {
      "text/latex": [
       "$\\displaystyle - 207 \\sin{\\left(Q_{1} \\right)} \\sin{\\left(Q_{2} + Q_{3} + Q_{4} \\right)} + 280 \\sin{\\left(Q_{1} \\right)} \\cos{\\left(Q_{2} \\right)} + 230 \\sin{\\left(Q_{1} \\right)} \\cos{\\left(Q_{2} + Q_{3} \\right)} + 70 \\sin{\\left(Q_{1} \\right)} - 43 \\cos{\\left(Q_{1} \\right)}$"
      ],
      "text/plain": [
       "-207*sin(Q1)*sin(Q2 + Q3 + Q4) + 280*sin(Q1)*cos(Q2) + 230*sin(Q1)*cos(Q2 + Q3) + 70*sin(Q1) - 43*cos(Q1)"
      ]
     },
     "execution_count": 33,
     "metadata": {},
     "output_type": "execute_result"
    }
   ],
   "source": [
    "# Coordenada Y del efector segun Q\n",
    "py"
   ]
  },
  {
   "cell_type": "code",
   "execution_count": 34,
   "metadata": {},
   "outputs": [
    {
     "data": {
      "text/latex": [
       "$\\displaystyle - 280 \\sin{\\left(Q_{2} \\right)} - 230 \\sin{\\left(Q_{2} + Q_{3} \\right)} - 207 \\cos{\\left(Q_{2} + Q_{3} + Q_{4} \\right)} + 388$"
      ],
      "text/plain": [
       "-280*sin(Q2) - 230*sin(Q2 + Q3) - 207*cos(Q2 + Q3 + Q4) + 388"
      ]
     },
     "execution_count": 34,
     "metadata": {},
     "output_type": "execute_result"
    }
   ],
   "source": [
    "# Coordenada Z del efector segun Q\n",
    "pz"
   ]
  },
  {
   "cell_type": "code",
   "execution_count": 35,
   "metadata": {},
   "outputs": [],
   "source": [
    "# Posicion brazo extendido (evaluacion numerica) pag 2-3 y 2-4 del manual"
   ]
  },
  {
   "cell_type": "code",
   "execution_count": 36,
   "metadata": {},
   "outputs": [
    {
     "data": {
      "text/latex": [
       "$\\displaystyle 787$"
      ],
      "text/plain": [
       "787"
      ]
     },
     "execution_count": 36,
     "metadata": {},
     "output_type": "execute_result"
    }
   ],
   "source": [
    "px1_eval = px.subs([('Q1',0),('Q2',0),('Q3',0),('Q4',-1.57),('Q5',0)]).round()\n",
    "px1_eval"
   ]
  },
  {
   "cell_type": "code",
   "execution_count": 37,
   "metadata": {},
   "outputs": [
    {
     "data": {
      "text/latex": [
       "$\\displaystyle -43$"
      ],
      "text/plain": [
       "-43"
      ]
     },
     "execution_count": 37,
     "metadata": {},
     "output_type": "execute_result"
    }
   ],
   "source": [
    "py1_eval = py.subs([('Q1',0),('Q2',0),('Q3',0),('Q4',-1.57),('Q5',0)]).round()\n",
    "py1_eval"
   ]
  },
  {
   "cell_type": "code",
   "execution_count": 38,
   "metadata": {},
   "outputs": [
    {
     "data": {
      "text/latex": [
       "$\\displaystyle 388$"
      ],
      "text/plain": [
       "388"
      ]
     },
     "execution_count": 38,
     "metadata": {},
     "output_type": "execute_result"
    }
   ],
   "source": [
    "pz1_eval = pz.subs([('Q1',0),('Q2',0),('Q3',0),('Q4',-1.57),('Q5',0)]).round()\n",
    "pz1_eval"
   ]
  }
 ],
 "metadata": {
  "kernelspec": {
   "display_name": "Python 3",
   "language": "python",
   "name": "python3"
  },
  "language_info": {
   "codemirror_mode": {
    "name": "ipython",
    "version": 3
   },
   "file_extension": ".py",
   "mimetype": "text/x-python",
   "name": "python",
   "nbconvert_exporter": "python",
   "pygments_lexer": "ipython3",
   "version": "3.8.5"
  }
 },
 "nbformat": 4,
 "nbformat_minor": 5
}
