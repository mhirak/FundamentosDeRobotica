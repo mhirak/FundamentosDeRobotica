{
 "cells": [
  {
   "cell_type": "code",
   "execution_count": 1,
   "id": "bd7cb97e",
   "metadata": {},
   "outputs": [],
   "source": [
    "%matplotlib notebook\n",
    "from spatialmath import *\n",
    "from spatialmath.base import *\n",
    "import matplotlib.pyplot as plt\n",
    "from math import pi\n",
    "import numpy as np\n",
    "import sympy as sp\n",
    "\n",
    "\n",
    "# extendemos la clase SE3 para poder manejar variables en forma simbolica y numérica\n",
    "# USO: objeto.symbolReplace([(simbolo1, valor_simbolo1),(simboloN, valor_simboloN)])\n",
    "class SE3(SE3):\n",
    "    def symbolReplace(self,symbol_values):\n",
    "        aux = np.eye(self.A.shape[0])\n",
    "        for i in range(self.A.shape[0]):\n",
    "            for j in range(self.A.shape[1]):\n",
    "                try:\n",
    "                    aux[i,j] = self.A[i,j].subs(symbol_values).evalf()\n",
    "                except:\n",
    "                    pass\n",
    "        return aux"
   ]
  },
  {
   "cell_type": "code",
   "execution_count": 3,
   "id": "9ccf7092",
   "metadata": {},
   "outputs": [],
   "source": [
    "# Definimos simbolos a utilizar\n",
    "q1,q2,q3,q4,q5 = sp.symbols('Q1,Q2,Q3,Q4,Q5')"
   ]
  },
  {
   "cell_type": "code",
   "execution_count": 5,
   "id": "f7b8f6f8",
   "metadata": {},
   "outputs": [],
   "source": [
    "l1 = 388\n",
    "l2 = 280\n",
    "l3 = 230\n",
    "l45 = 111 # incorporar gripper\n",
    "off01 = 70\n",
    "off12 = 155 # revisar\n",
    "off23 = off12 - 43"
   ]
  },
  {
   "cell_type": "code",
   "execution_count": 10,
   "id": "46e83c50",
   "metadata": {},
   "outputs": [
    {
     "data": {
      "text/plain": [
       "  \u001b[38;5;1m1.0*cos(Q1) \u001b[0m \u001b[38;5;1m-6.12323399573677e-17*sin(Q1)\u001b[0m \u001b[38;5;1m-1.0*sin(Q1)\u001b[0m \u001b[38;5;4m70.0*cos(Q1)\u001b[0m  \u001b[0m\n",
       "  \u001b[38;5;1m1.0*sin(Q1) \u001b[0m \u001b[38;5;1m6.12323399573677e-17*cos(Q1)\u001b[0m \u001b[38;5;1m1.0*cos(Q1) \u001b[0m \u001b[38;5;4m70.0*sin(Q1)\u001b[0m  \u001b[0m\n",
       "  \u001b[38;5;1m 0       \u001b[0m \u001b[38;5;1m-1       \u001b[0m \u001b[38;5;1m 0       \u001b[0m \u001b[38;5;4m 388     \u001b[0m  \u001b[0m\n",
       "  \u001b[38;5;244m 0       \u001b[0m \u001b[38;5;244m 0       \u001b[0m \u001b[38;5;244m 0       \u001b[0m \u001b[38;5;244m 1       \u001b[0m  \u001b[0m\n"
      ]
     },
     "execution_count": 10,
     "metadata": {},
     "output_type": "execute_result"
    }
   ],
   "source": [
    "A01 = SE3.Rz(q1) * SE3.Tz(l1) * SE3.Tx(off01) * SE3.Rx(-pi/2)\n",
    "A01"
   ]
  },
  {
   "cell_type": "code",
   "execution_count": 11,
   "id": "003dea71",
   "metadata": {},
   "outputs": [
    {
     "data": {
      "text/plain": [
       "  \u001b[38;5;1m1.0*cos(Q2) \u001b[0m \u001b[38;5;1m-1.0*sin(Q2)\u001b[0m \u001b[38;5;1m0           \u001b[0m \u001b[38;5;4m280.0*cos(Q2)\u001b[0m  \u001b[0m\n",
       "  \u001b[38;5;1m1.0*sin(Q2) \u001b[0m \u001b[38;5;1m1.0*cos(Q2) \u001b[0m \u001b[38;5;1m0           \u001b[0m \u001b[38;5;4m280.0*sin(Q2)\u001b[0m  \u001b[0m\n",
       "  \u001b[38;5;1m 0       \u001b[0m \u001b[38;5;1m 0       \u001b[0m \u001b[38;5;1m 1       \u001b[0m \u001b[38;5;4m-155     \u001b[0m  \u001b[0m\n",
       "  \u001b[38;5;244m 0       \u001b[0m \u001b[38;5;244m 0       \u001b[0m \u001b[38;5;244m 0       \u001b[0m \u001b[38;5;244m 1       \u001b[0m  \u001b[0m\n"
      ]
     },
     "execution_count": 11,
     "metadata": {},
     "output_type": "execute_result"
    }
   ],
   "source": [
    "A12 = SE3.Rz(q2) * SE3.Tz(-off12) * SE3.Tx(l2)\n",
    "A12"
   ]
  },
  {
   "cell_type": "code",
   "execution_count": 12,
   "id": "687c66f3",
   "metadata": {},
   "outputs": [
    {
     "data": {
      "text/plain": [
       "  \u001b[38;5;1m1.0*cos(Q3) \u001b[0m \u001b[38;5;1m-1.0*sin(Q3)\u001b[0m \u001b[38;5;1m0           \u001b[0m \u001b[38;5;4m230.0*cos(Q3)\u001b[0m  \u001b[0m\n",
       "  \u001b[38;5;1m1.0*sin(Q3) \u001b[0m \u001b[38;5;1m1.0*cos(Q3) \u001b[0m \u001b[38;5;1m0           \u001b[0m \u001b[38;5;4m230.0*sin(Q3)\u001b[0m  \u001b[0m\n",
       "  \u001b[38;5;1m 0       \u001b[0m \u001b[38;5;1m 0       \u001b[0m \u001b[38;5;1m 1       \u001b[0m \u001b[38;5;4m 112     \u001b[0m  \u001b[0m\n",
       "  \u001b[38;5;244m 0       \u001b[0m \u001b[38;5;244m 0       \u001b[0m \u001b[38;5;244m 0       \u001b[0m \u001b[38;5;244m 1       \u001b[0m  \u001b[0m\n"
      ]
     },
     "execution_count": 12,
     "metadata": {},
     "output_type": "execute_result"
    }
   ],
   "source": [
    "A23 = SE3.Rz(q3) * SE3.Tz(off23) * SE3.Tx(l3)\n",
    "A23"
   ]
  },
  {
   "cell_type": "code",
   "execution_count": 16,
   "id": "cc16635e",
   "metadata": {},
   "outputs": [
    {
     "data": {
      "text/plain": [
       "  \u001b[38;5;1m1.0*cos(Q4) \u001b[0m \u001b[38;5;1m-6.12323399573677e-17*sin(Q4)\u001b[0m \u001b[38;5;1m1.0*sin(Q4) \u001b[0m \u001b[38;5;4m0           \u001b[0m  \u001b[0m\n",
       "  \u001b[38;5;1m1.0*sin(Q4) \u001b[0m \u001b[38;5;1m6.12323399573677e-17*cos(Q4)\u001b[0m \u001b[38;5;1m-1.0*cos(Q4)\u001b[0m \u001b[38;5;4m0           \u001b[0m  \u001b[0m\n",
       "  \u001b[38;5;1m 0       \u001b[0m \u001b[38;5;1m 1       \u001b[0m \u001b[38;5;1m 0       \u001b[0m \u001b[38;5;4m 0       \u001b[0m  \u001b[0m\n",
       "  \u001b[38;5;244m 0       \u001b[0m \u001b[38;5;244m 0       \u001b[0m \u001b[38;5;244m 0       \u001b[0m \u001b[38;5;244m 1       \u001b[0m  \u001b[0m\n"
      ]
     },
     "execution_count": 16,
     "metadata": {},
     "output_type": "execute_result"
    }
   ],
   "source": [
    "A34 = SE3.Rz(q4) * SE3.Rx(pi/2)\n",
    "A34"
   ]
  },
  {
   "cell_type": "code",
   "execution_count": 17,
   "id": "9d601d8a",
   "metadata": {},
   "outputs": [
    {
     "data": {
      "text/plain": [
       "  \u001b[38;5;1m1.0*cos(Q5) \u001b[0m \u001b[38;5;1m-1.0*sin(Q5)\u001b[0m \u001b[38;5;1m0           \u001b[0m \u001b[38;5;4m0           \u001b[0m  \u001b[0m\n",
       "  \u001b[38;5;1m1.0*sin(Q5) \u001b[0m \u001b[38;5;1m1.0*cos(Q5) \u001b[0m \u001b[38;5;1m0           \u001b[0m \u001b[38;5;4m0           \u001b[0m  \u001b[0m\n",
       "  \u001b[38;5;1m 0       \u001b[0m \u001b[38;5;1m 0       \u001b[0m \u001b[38;5;1m 1       \u001b[0m \u001b[38;5;4m 111     \u001b[0m  \u001b[0m\n",
       "  \u001b[38;5;244m 0       \u001b[0m \u001b[38;5;244m 0       \u001b[0m \u001b[38;5;244m 0       \u001b[0m \u001b[38;5;244m 1       \u001b[0m  \u001b[0m\n"
      ]
     },
     "execution_count": 17,
     "metadata": {},
     "output_type": "execute_result"
    }
   ],
   "source": [
    "A45 = SE3.Rz(q5) * SE3.Tz(l45)\n",
    "A45"
   ]
  },
  {
   "cell_type": "code",
   "execution_count": 27,
   "id": "1c162f28",
   "metadata": {},
   "outputs": [
    {
     "data": {
      "text/latex": [
       "$\\displaystyle - \\left(\\sin{\\left(Q_{1} \\right)} + \\frac{612323399573677 \\sin{\\left(Q_{2} + Q_{3} + Q_{4} \\right)} \\cos{\\left(Q_{1} \\right)}}{10000000000000000000000000000000}\\right) \\sin{\\left(Q_{5} \\right)} + \\cos{\\left(Q_{1} \\right)} \\cos{\\left(Q_{5} \\right)} \\cos{\\left(Q_{2} + Q_{3} + Q_{4} \\right)}$"
      ],
      "text/plain": [
       "-(sin(Q1) + 612323399573677*sin(Q2 + Q3 + Q4)*cos(Q1)/10000000000000000000000000000000)*sin(Q5) + cos(Q1)*cos(Q5)*cos(Q2 + Q3 + Q4)"
      ]
     },
     "execution_count": 27,
     "metadata": {},
     "output_type": "execute_result"
    }
   ],
   "source": [
    "T = A01 * A12 * A23 * A34 * A45\n",
    "T.A[0,0].simplify().nsimplify()"
   ]
  },
  {
   "cell_type": "code",
   "execution_count": null,
   "id": "1a2b73bb",
   "metadata": {},
   "outputs": [],
   "source": []
  }
 ],
 "metadata": {
  "kernelspec": {
   "display_name": "Python 3 (ipykernel)",
   "language": "python",
   "name": "python3"
  },
  "language_info": {
   "codemirror_mode": {
    "name": "ipython",
    "version": 3
   },
   "file_extension": ".py",
   "mimetype": "text/x-python",
   "name": "python",
   "nbconvert_exporter": "python",
   "pygments_lexer": "ipython3",
   "version": "3.10.4"
  }
 },
 "nbformat": 4,
 "nbformat_minor": 5
}
