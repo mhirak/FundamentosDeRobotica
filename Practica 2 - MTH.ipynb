{
 "cells": [
  {
   "cell_type": "code",
   "execution_count": 1,
   "id": "487356d6",
   "metadata": {},
   "outputs": [],
   "source": [
    "%matplotlib notebook\n",
    "from spatialmath import *\n",
    "from spatialmath.base import *\n",
    "import matplotlib.pyplot as plt\n",
    "from sympy import pi\n",
    "import numpy as np\n",
    "import sympy as sp"
   ]
  },
  {
   "cell_type": "code",
   "execution_count": 2,
   "id": "2d3b4df1",
   "metadata": {},
   "outputs": [],
   "source": [
    "# extendemos la clase SE3 para poder manejar variables en forma simbolica y numérica\n",
    "# USO: objeto.symbolReplace([(simbolo1, valor_simbolo1),(simboloN, valor_simboloN)])\n",
    "class SE3(SE3):\n",
    "    def symbolReplace(self,symbol_values):\n",
    "        aux = np.eye(self.A.shape[0])\n",
    "        for i in range(self.A.shape[0]):\n",
    "            for j in range(self.A.shape[1]):\n",
    "                try:\n",
    "                    aux[i,j] = self.A[i,j].subs(symbol_values).evalf()\n",
    "                except:\n",
    "                    pass\n",
    "        return aux"
   ]
  },
  {
   "cell_type": "markdown",
   "id": "a3e4651f",
   "metadata": {},
   "source": [
    "Problema\n",
    "Tomemos el robot de 2GDL y colocamos ternas en sus extremos. Sea S0 su origen, S1 el extreme del primer eslabon y S2 el extremo del segundo. Suponiendo que sus variables articulares [Q] = [90,90] y sus dimensiones [L] = [2,10], graficar la posicion de sus ternas.\n",
    "\n",
    " °------L1------°-----L2------°\n",
    " \n",
    "S0 - S1 - S2"
   ]
  },
  {
   "cell_type": "code",
   "execution_count": 14,
   "id": "fa23613c",
   "metadata": {},
   "outputs": [],
   "source": [
    "# Definimos simbolos a utilizar\n",
    "q1,l1, q2, l2 = sp.symbols('Q1,L1,Q2,L2')\n",
    "S0 = SE3()"
   ]
  },
  {
   "cell_type": "code",
   "execution_count": 15,
   "id": "4114c194",
   "metadata": {},
   "outputs": [
    {
     "name": "stdout",
     "output_type": "stream",
     "text": [
      "  cos(Q1)      -sin(Q1)     0            L1*cos(Q1)    \n",
      "  sin(Q1)      cos(Q1)      0            L1*sin(Q1)    \n",
      "   0         0         1        0             \n",
      "   0         0         0        1             \n",
      "\n"
     ]
    }
   ],
   "source": [
    "S1 = SE3.Rz(q1) * SE3.Tx(l1)\n",
    "print(S1)"
   ]
  },
  {
   "cell_type": "code",
   "execution_count": 5,
   "id": "816107ca",
   "metadata": {},
   "outputs": [
    {
     "name": "stdout",
     "output_type": "stream",
     "text": [
      "[[ 0. -1.  0.  0.]\n",
      " [ 1.  0.  0.  2.]\n",
      " [ 0.  0.  1.  0.]\n",
      " [ 0.  0.  0.  1.]]\n"
     ]
    }
   ],
   "source": [
    "S1_eval = S1.symbolReplace([(q1,pi/2),(l1,2)])\n",
    "print(S1_eval.round())"
   ]
  },
  {
   "cell_type": "code",
   "execution_count": 6,
   "id": "018afead",
   "metadata": {},
   "outputs": [
    {
     "name": "stdout",
     "output_type": "stream",
     "text": [
      "  cos(Q2)      -sin(Q2)     0            L2*cos(Q2)    \n",
      "  sin(Q2)      cos(Q2)      0            L2*sin(Q2)    \n",
      "   0         0         1        0             \n",
      "   0         0         0        1             \n",
      "\n"
     ]
    }
   ],
   "source": [
    "S2 = SE3.Rz(q2) * SE3.Tx(l2)\n",
    "print(S2)"
   ]
  },
  {
   "cell_type": "code",
   "execution_count": 7,
   "id": "898eff3c",
   "metadata": {},
   "outputs": [
    {
     "name": "stdout",
     "output_type": "stream",
     "text": [
      "  cos(Q1 + Q2) -sin(Q1 + Q2) 0            L1*cos(Q1) + L2*cos(Q1 + Q2)  \n",
      "  sin(Q1 + Q2) cos(Q1 + Q2) 0            L1*sin(Q1) + L2*sin(Q1 + Q2)  \n",
      "  0            0            1            0             \n",
      "  0            0            0            1             \n",
      "\n"
     ]
    }
   ],
   "source": [
    "T = S1 * S2\n",
    "T = T.simplify()\n",
    "print(T)"
   ]
  },
  {
   "cell_type": "code",
   "execution_count": 8,
   "id": "63792b89",
   "metadata": {},
   "outputs": [
    {
     "data": {
      "text/plain": [
       "array([[ -1.,   0.,   0., -10.],\n",
       "       [  0.,  -1.,   0.,   2.],\n",
       "       [  0.,   0.,   1.,   0.],\n",
       "       [  0.,   0.,   0.,   1.]])"
      ]
     },
     "execution_count": 8,
     "metadata": {},
     "output_type": "execute_result"
    }
   ],
   "source": [
    "T_eval = T.symbolReplace([(q1,pi/2),(l1,2),(q2,pi/2),(l2,10)]).round()\n",
    "T_eval"
   ]
  },
  {
   "cell_type": "code",
   "execution_count": 9,
   "id": "c4a78dc1",
   "metadata": {},
   "outputs": [
    {
     "data": {
      "text/plain": [
       "array([L1*cos(Q1) + L2*cos(Q1 + Q2), L1*sin(Q1) + L2*sin(Q1 + Q2), 0],\n",
       "      dtype=object)"
      ]
     },
     "execution_count": 9,
     "metadata": {},
     "output_type": "execute_result"
    }
   ],
   "source": [
    "p=T.A[:3,3]\n",
    "p"
   ]
  },
  {
   "cell_type": "code",
   "execution_count": 10,
   "id": "735f8364",
   "metadata": {},
   "outputs": [],
   "source": [
    "px,py,pz=p"
   ]
  },
  {
   "cell_type": "code",
   "execution_count": 11,
   "id": "d182f10a",
   "metadata": {},
   "outputs": [
    {
     "data": {
      "text/latex": [
       "$\\displaystyle L_{1} \\cos{\\left(Q_{1} \\right)} + L_{2} \\cos{\\left(Q_{1} + Q_{2} \\right)}$"
      ],
      "text/plain": [
       "L1*cos(Q1) + L2*cos(Q1 + Q2)"
      ]
     },
     "execution_count": 11,
     "metadata": {},
     "output_type": "execute_result"
    }
   ],
   "source": [
    "px"
   ]
  },
  {
   "cell_type": "code",
   "execution_count": 12,
   "id": "d133a4bb",
   "metadata": {},
   "outputs": [
    {
     "data": {
      "text/latex": [
       "$\\displaystyle - L_{2} \\sin{\\left(Q_{2} \\right)}$"
      ],
      "text/plain": [
       "-L2*sin(Q2)"
      ]
     },
     "execution_count": 12,
     "metadata": {},
     "output_type": "execute_result"
    }
   ],
   "source": [
    "px.subs([('Q1',pi/2)])"
   ]
  },
  {
   "cell_type": "code",
   "execution_count": 13,
   "id": "e2d6d5d5",
   "metadata": {},
   "outputs": [
    {
     "data": {
      "text/latex": [
       "$\\displaystyle L_{1} \\sin{\\left(Q_{1} \\right)} + L_{2} \\sin{\\left(Q_{1} + Q_{2} \\right)}$"
      ],
      "text/plain": [
       "L1*sin(Q1) + L2*sin(Q1 + Q2)"
      ]
     },
     "execution_count": 13,
     "metadata": {},
     "output_type": "execute_result"
    }
   ],
   "source": [
    "py"
   ]
  }
 ],
 "metadata": {
  "kernelspec": {
   "display_name": "Python 3 (ipykernel)",
   "language": "python",
   "name": "python3"
  },
  "language_info": {
   "codemirror_mode": {
    "name": "ipython",
    "version": 3
   },
   "file_extension": ".py",
   "mimetype": "text/x-python",
   "name": "python",
   "nbconvert_exporter": "python",
   "pygments_lexer": "ipython3",
   "version": "3.8.16"
  }
 },
 "nbformat": 4,
 "nbformat_minor": 5
}
