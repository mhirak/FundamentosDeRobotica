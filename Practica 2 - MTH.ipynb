{
  "cells": [
    {
      "cell_type": "code",
      "source": [
        "!pip install spatialmath-python > /dev/null"
      ],
      "metadata": {
        "id": "3WqbD7zkVwxN"
      },
      "id": "3WqbD7zkVwxN",
      "execution_count": 3,
      "outputs": []
    },
    {
      "cell_type": "code",
      "execution_count": 44,
      "id": "487356d6",
      "metadata": {
        "id": "487356d6"
      },
      "outputs": [],
      "source": [
        "%matplotlib notebook\n",
        "from spatialmath import *\n",
        "from spatialmath.base.transforms3d import *\n",
        "import matplotlib.pyplot as plt\n",
        "from sympy import pi\n",
        "import numpy as np\n",
        "import sympy as sp"
      ]
    },
    {
      "cell_type": "code",
      "execution_count": 5,
      "id": "2d3b4df1",
      "metadata": {
        "id": "2d3b4df1"
      },
      "outputs": [],
      "source": [
        "# extendemos la clase SE3 para poder manejar variables en forma simbolica y numérica\n",
        "# USO: objeto.symbolReplace([(simbolo1, valor_simbolo1),(simboloN, valor_simboloN)])\n",
        "class SE3(SE3):\n",
        "    def symbolReplace(self,symbol_values):\n",
        "        aux = np.eye(self.A.shape[0])\n",
        "        for i in range(self.A.shape[0]):\n",
        "            for j in range(self.A.shape[1]):\n",
        "                try:\n",
        "                    aux[i,j] = self.A[i,j].subs(symbol_values).evalf()\n",
        "                except:\n",
        "                    pass\n",
        "        return aux"
      ]
    },
    {
      "cell_type": "markdown",
      "id": "a3e4651f",
      "metadata": {
        "id": "a3e4651f"
      },
      "source": [
        "***Problema***\n",
        "\n",
        "Tomemos el robot de 2GDL y colocamos ternas en sus extremos. Sea S0 su origen, S1 el extremo del primer eslabon y S2 el extremo del segundo. Suponiendo que sus variables articulares [Q] = [90,90] y sus dimensiones [L] = [2,10], obtener el modelo cinemático.\n",
        "\n",
        " °------L1------°-----L2------°\n",
        "\n",
        "S0 - S1 - S2"
      ]
    },
    {
      "cell_type": "code",
      "execution_count": 18,
      "id": "fa23613c",
      "metadata": {
        "id": "fa23613c"
      },
      "outputs": [],
      "source": [
        "# Definimos simbolos a utilizar\n",
        "q1,l1, q2, l2 = sp.symbols('Q1,L1,Q2,L2')\n",
        "S0 = SE3()"
      ]
    },
    {
      "cell_type": "code",
      "execution_count": 19,
      "id": "4114c194",
      "metadata": {
        "id": "4114c194",
        "outputId": "ba8d373a-0557-417b-a211-eae8b4ec909e",
        "colab": {
          "base_uri": "https://localhost:8080/"
        }
      },
      "outputs": [
        {
          "output_type": "execute_result",
          "data": {
            "text/plain": [
              "  cos(Q1)      -sin(Q1)     0            L1*cos(Q1)    \n",
              "  sin(Q1)      cos(Q1)      0            L1*sin(Q1)    \n",
              "   0         0         1        0             \n",
              "   0         0         0        1             \n"
            ]
          },
          "metadata": {},
          "execution_count": 19
        }
      ],
      "source": [
        "S1 = SE3.Rz(q1) * SE3.Tx(l1)\n",
        "S1"
      ]
    },
    {
      "cell_type": "code",
      "execution_count": 20,
      "id": "816107ca",
      "metadata": {
        "id": "816107ca",
        "outputId": "68529d3d-1239-4be3-eec7-548b5e5f3f14",
        "colab": {
          "base_uri": "https://localhost:8080/"
        }
      },
      "outputs": [
        {
          "output_type": "execute_result",
          "data": {
            "text/plain": [
              "array([[ 0., -1.,  0.,  0.],\n",
              "       [ 1.,  0.,  0.,  2.],\n",
              "       [ 0.,  0.,  1.,  0.],\n",
              "       [ 0.,  0.,  0.,  1.]])"
            ]
          },
          "metadata": {},
          "execution_count": 20
        }
      ],
      "source": [
        "S1_eval = S1.symbolReplace([(q1,pi/2),(l1,2)])\n",
        "S1_eval.round()"
      ]
    },
    {
      "cell_type": "code",
      "execution_count": 21,
      "id": "018afead",
      "metadata": {
        "id": "018afead",
        "outputId": "827d9e17-39be-4636-b236-0b83ab08908b",
        "colab": {
          "base_uri": "https://localhost:8080/"
        }
      },
      "outputs": [
        {
          "output_type": "execute_result",
          "data": {
            "text/plain": [
              "  cos(Q2)      -sin(Q2)     0            L2*cos(Q2)    \n",
              "  sin(Q2)      cos(Q2)      0            L2*sin(Q2)    \n",
              "   0         0         1        0             \n",
              "   0         0         0        1             \n"
            ]
          },
          "metadata": {},
          "execution_count": 21
        }
      ],
      "source": [
        "S2 = SE3.Rz(q2) * SE3.Tx(l2)\n",
        "S2"
      ]
    },
    {
      "cell_type": "code",
      "execution_count": 23,
      "id": "898eff3c",
      "metadata": {
        "id": "898eff3c",
        "outputId": "7fc83685-117d-472d-a6ee-38245fff8985",
        "colab": {
          "base_uri": "https://localhost:8080/"
        }
      },
      "outputs": [
        {
          "output_type": "execute_result",
          "data": {
            "text/plain": [
              "  -sin(Q1)*sin(Q2) + cos(Q1)*cos(Q2) -sin(Q1)*cos(Q2) - sin(Q2)*cos(Q1) 0            L1*cos(Q1) - L2*sin(Q1)*sin(Q2) + L2*cos(Q1)*cos(Q2)  \n",
              "  sin(Q1)*cos(Q2) + sin(Q2)*cos(Q1) -sin(Q1)*sin(Q2) + cos(Q1)*cos(Q2) 0            L1*sin(Q1) + L2*sin(Q1)*cos(Q2) + L2*sin(Q2)*cos(Q1)  \n",
              "  0            0            1            0             \n",
              "  0            0            0            1             \n"
            ]
          },
          "metadata": {},
          "execution_count": 23
        }
      ],
      "source": [
        "T = S1 * S2\n",
        "T"
      ]
    },
    {
      "cell_type": "code",
      "source": [
        "T = T.simplify()\n",
        "T"
      ],
      "metadata": {
        "id": "VosZgFvLWhEl",
        "outputId": "95fe518e-51df-44dc-e4e5-9e523dd53fd9",
        "colab": {
          "base_uri": "https://localhost:8080/"
        }
      },
      "id": "VosZgFvLWhEl",
      "execution_count": 24,
      "outputs": [
        {
          "output_type": "execute_result",
          "data": {
            "text/plain": [
              "  cos(Q1 + Q2) -sin(Q1 + Q2) 0            L1*cos(Q1) + L2*cos(Q1 + Q2)  \n",
              "  sin(Q1 + Q2) cos(Q1 + Q2) 0            L1*sin(Q1) + L2*sin(Q1 + Q2)  \n",
              "  0            0            1            0             \n",
              "  0            0            0            1             \n"
            ]
          },
          "metadata": {},
          "execution_count": 24
        }
      ]
    },
    {
      "cell_type": "code",
      "execution_count": 25,
      "id": "63792b89",
      "metadata": {
        "id": "63792b89",
        "outputId": "7bcf157b-64e9-4563-dc5e-408ea479b9d2",
        "colab": {
          "base_uri": "https://localhost:8080/"
        }
      },
      "outputs": [
        {
          "output_type": "execute_result",
          "data": {
            "text/plain": [
              "array([[ -1.,   0.,   0., -10.],\n",
              "       [  0.,  -1.,   0.,   2.],\n",
              "       [  0.,   0.,   1.,   0.],\n",
              "       [  0.,   0.,   0.,   1.]])"
            ]
          },
          "metadata": {},
          "execution_count": 25
        }
      ],
      "source": [
        "T_eval = T.symbolReplace([(q1,pi/2),(l1,2),(q2,pi/2),(l2,10)]).round()\n",
        "T_eval"
      ]
    },
    {
      "cell_type": "code",
      "execution_count": 32,
      "id": "c4a78dc1",
      "metadata": {
        "id": "c4a78dc1",
        "outputId": "64b2f80c-a6b4-463b-c419-a4b242cf0afc",
        "colab": {
          "base_uri": "https://localhost:8080/"
        }
      },
      "outputs": [
        {
          "output_type": "execute_result",
          "data": {
            "text/plain": [
              "array([L1*cos(Q1) + L2*cos(Q1 + Q2), L1*sin(Q1) + L2*sin(Q1 + Q2), 0],\n",
              "      dtype=object)"
            ]
          },
          "metadata": {},
          "execution_count": 32
        }
      ],
      "source": [
        "p = T.t\n",
        "# p=T.A[:3,3]\n",
        "p"
      ]
    },
    {
      "cell_type": "code",
      "execution_count": 33,
      "id": "735f8364",
      "metadata": {
        "id": "735f8364"
      },
      "outputs": [],
      "source": [
        "px,py,pz=p"
      ]
    },
    {
      "cell_type": "code",
      "execution_count": 34,
      "id": "d182f10a",
      "metadata": {
        "id": "d182f10a",
        "outputId": "82d3eb91-eca5-4ea9-db02-f653d28ad6dc",
        "colab": {
          "base_uri": "https://localhost:8080/",
          "height": 39
        }
      },
      "outputs": [
        {
          "output_type": "execute_result",
          "data": {
            "text/plain": [
              "L1*cos(Q1) + L2*cos(Q1 + Q2)"
            ],
            "text/latex": "$\\displaystyle L_{1} \\cos{\\left(Q_{1} \\right)} + L_{2} \\cos{\\left(Q_{1} + Q_{2} \\right)}$"
          },
          "metadata": {},
          "execution_count": 34
        }
      ],
      "source": [
        "px"
      ]
    },
    {
      "cell_type": "code",
      "execution_count": 35,
      "id": "d133a4bb",
      "metadata": {
        "id": "d133a4bb",
        "outputId": "aaf9a7b1-3f8e-433a-fefb-538b45aa8f03",
        "colab": {
          "base_uri": "https://localhost:8080/",
          "height": 39
        }
      },
      "outputs": [
        {
          "output_type": "execute_result",
          "data": {
            "text/plain": [
              "-L2*sin(Q2)"
            ],
            "text/latex": "$\\displaystyle - L_{2} \\sin{\\left(Q_{2} \\right)}$"
          },
          "metadata": {},
          "execution_count": 35
        }
      ],
      "source": [
        "px.subs([('Q1',pi/2)])"
      ]
    },
    {
      "cell_type": "code",
      "execution_count": 36,
      "id": "e2d6d5d5",
      "metadata": {
        "id": "e2d6d5d5",
        "outputId": "c67b1235-4627-4019-9ea9-ecdb2141d90a",
        "colab": {
          "base_uri": "https://localhost:8080/",
          "height": 39
        }
      },
      "outputs": [
        {
          "output_type": "execute_result",
          "data": {
            "text/plain": [
              "L1*sin(Q1) + L2*sin(Q1 + Q2)"
            ],
            "text/latex": "$\\displaystyle L_{1} \\sin{\\left(Q_{1} \\right)} + L_{2} \\sin{\\left(Q_{1} + Q_{2} \\right)}$"
          },
          "metadata": {},
          "execution_count": 36
        }
      ],
      "source": [
        "py"
      ]
    }
  ],
  "metadata": {
    "kernelspec": {
      "display_name": "Python 3 (ipykernel)",
      "language": "python",
      "name": "python3"
    },
    "language_info": {
      "codemirror_mode": {
        "name": "ipython",
        "version": 3
      },
      "file_extension": ".py",
      "mimetype": "text/x-python",
      "name": "python",
      "nbconvert_exporter": "python",
      "pygments_lexer": "ipython3",
      "version": "3.8.16"
    },
    "colab": {
      "provenance": []
    }
  },
  "nbformat": 4,
  "nbformat_minor": 5
}